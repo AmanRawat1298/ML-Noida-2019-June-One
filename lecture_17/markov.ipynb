{
 "cells": [
  {
   "cell_type": "code",
   "execution_count": 46,
   "metadata": {},
   "outputs": [],
   "source": [
    "import numpy as np"
   ]
  },
  {
   "cell_type": "code",
   "execution_count": 47,
   "metadata": {},
   "outputs": [],
   "source": [
    "text = open(\"../datasets/speeches/speech.txt\", \"r\").read()"
   ]
  },
  {
   "cell_type": "code",
   "execution_count": 91,
   "metadata": {},
   "outputs": [],
   "source": [
    "model = {}"
   ]
  },
  {
   "cell_type": "code",
   "execution_count": 92,
   "metadata": {},
   "outputs": [],
   "source": [
    "k = 7"
   ]
  },
  {
   "cell_type": "code",
   "execution_count": 93,
   "metadata": {},
   "outputs": [],
   "source": [
    "for i in range(len(text) - k):\n",
    "    cut = text[i:i+k]\n",
    "    ch = text[i+k]\n",
    "    \n",
    "    if cut not in model:\n",
    "        model[cut] = {}\n",
    "    \n",
    "    if ch not in model[cut]:\n",
    "        model[cut][ch] = 1\n",
    "    else:\n",
    "        model[cut][ch] += 1\n",
    "    "
   ]
  },
  {
   "cell_type": "code",
   "execution_count": 94,
   "metadata": {},
   "outputs": [],
   "source": [
    "generated = \"This is the purpose\""
   ]
  },
  {
   "cell_type": "code",
   "execution_count": 95,
   "metadata": {},
   "outputs": [],
   "source": [
    "for i in range(1000):\n",
    "    cut = generated[-k:]\n",
    "    freq = model[cut]\n",
    "    freq_list = np.array(list(freq.items()))\n",
    "    # top three freq\n",
    "    best_three = np.argsort(freq_list[:, 1])[-3:]\n",
    "    # gen randon from three\n",
    "    best = np.random.randint(0, (len(best_three)), 1)[0]\n",
    "    best_ch = freq_list[best, 0]\n",
    "    generated += best_ch"
   ]
  },
  {
   "cell_type": "code",
   "execution_count": 97,
   "metadata": {},
   "outputs": [
    {
     "name": "stdout",
     "output_type": "stream",
     "text": [
      "This is the purpose other icon of dengue everywhere is potent regime; \n",
      "\t• We have busy with satisfaction, and irrespecting 70 crore. In case of privation. For those which including training 5 percent within. In turn, the rising Africa,\n",
      "Hon'ble Minister our place outside.\n",
      "As we development. Likewise, we do sometimes my ‘Mann Ki Baat,\n",
      "I felt like Beckham. Wembley will now.\n",
      "Brothers, local materials and membership and, to being Deputy Prime ministration. India's immense. \n",
      "Honorable countless\n",
      "revolutions too.  And yes, this\n",
      "gives me a news about Yoga. This administers, inclusion of two years, so this grand event there, I visited.\n",
      "Travel playing employ our economy dependence, 14 crore forty villages of black magic. The rare Persia, Hafez once said:\n",
      "“Our work, increasing. Even today. Its doubt very determinal at JNPT, Mumbai. I am going. I got a lot.\n",
      "In a break free from deprived from public policy-transformed.\n",
      "We have, is irrelevance, peaceful. We have within such an open website everyone!\n",
      "If there it might t\n"
     ]
    }
   ],
   "source": [
    "print(generated)"
   ]
  },
  {
   "cell_type": "code",
   "execution_count": null,
   "metadata": {},
   "outputs": [],
   "source": []
  },
  {
   "cell_type": "code",
   "execution_count": null,
   "metadata": {},
   "outputs": [],
   "source": []
  },
  {
   "cell_type": "code",
   "execution_count": 64,
   "metadata": {},
   "outputs": [
    {
     "data": {
      "text/plain": [
       "array([['hello', '5'],\n",
       "       ['me', '4']], dtype='<U5')"
      ]
     },
     "execution_count": 64,
     "metadata": {},
     "output_type": "execute_result"
    }
   ],
   "source": [
    "np.array(list(d.items()))"
   ]
  },
  {
   "cell_type": "code",
   "execution_count": 65,
   "metadata": {},
   "outputs": [
    {
     "data": {
      "text/plain": [
       "array([1, 0])"
      ]
     },
     "execution_count": 65,
     "metadata": {},
     "output_type": "execute_result"
    }
   ],
   "source": [
    "np.argsort(arr[:, 1])"
   ]
  },
  {
   "cell_type": "code",
   "execution_count": 66,
   "metadata": {},
   "outputs": [],
   "source": [
    "cut = generated[-k:]\n",
    "freq = model[cut]\n",
    "freq_list = np.array(list(freq.items()))\n",
    "best = np.argsort(freq_list[:, 1])\n"
   ]
  },
  {
   "cell_type": "code",
   "execution_count": 74,
   "metadata": {},
   "outputs": [],
   "source": [
    "v = best[-3:]"
   ]
  },
  {
   "cell_type": "code",
   "execution_count": 83,
   "metadata": {},
   "outputs": [],
   "source": [
    "chosen = np.random.randint(0, (len(v)), 1)"
   ]
  },
  {
   "cell_type": "code",
   "execution_count": 84,
   "metadata": {},
   "outputs": [
    {
     "data": {
      "text/plain": [
       "array([1])"
      ]
     },
     "execution_count": 84,
     "metadata": {},
     "output_type": "execute_result"
    }
   ],
   "source": [
    "chosen"
   ]
  },
  {
   "cell_type": "code",
   "execution_count": null,
   "metadata": {},
   "outputs": [],
   "source": []
  }
 ],
 "metadata": {
  "kernelspec": {
   "display_name": "Python 3",
   "language": "python",
   "name": "python3"
  },
  "language_info": {
   "codemirror_mode": {
    "name": "ipython",
    "version": 3
   },
   "file_extension": ".py",
   "mimetype": "text/x-python",
   "name": "python",
   "nbconvert_exporter": "python",
   "pygments_lexer": "ipython3",
   "version": "3.7.2"
  }
 },
 "nbformat": 4,
 "nbformat_minor": 2
}
