{
 "cells": [
  {
   "cell_type": "code",
   "execution_count": 21,
   "metadata": {},
   "outputs": [],
   "source": [
    "from keras.models import Sequential\n",
    "from keras.layers import Dense\n",
    "from keras.losses import categorical_crossentropy\n",
    "from sklearn.datasets import make_blobs\n",
    "from sklearn.model_selection import train_test_split\n",
    "import matplotlib.pyplot as plt\n",
    "from sklearn.preprocessing import OneHotEncoder\n",
    "import pandas as pd\n",
    "import numpy as np"
   ]
  },
  {
   "cell_type": "code",
   "execution_count": 3,
   "metadata": {},
   "outputs": [],
   "source": [
    "data = pd.read_csv(\"../datasets/mnist_train_small.csv\").values"
   ]
  },
  {
   "cell_type": "code",
   "execution_count": 4,
   "metadata": {},
   "outputs": [],
   "source": [
    "X = data[:, 2:]\n",
    "y = data[:, 1]"
   ]
  },
  {
   "cell_type": "code",
   "execution_count": 5,
   "metadata": {},
   "outputs": [],
   "source": [
    "ohe = OneHotEncoder(categories=\"auto\")"
   ]
  },
  {
   "cell_type": "code",
   "execution_count": 6,
   "metadata": {},
   "outputs": [],
   "source": [
    "y_hot = ohe.fit_transform(y.reshape(-1, 1)).todense()"
   ]
  },
  {
   "cell_type": "code",
   "execution_count": 7,
   "metadata": {},
   "outputs": [],
   "source": [
    "X_train, X_test, y_train, y_test = train_test_split(\n",
    "...     X, y_hot, test_size=0.33, random_state=42)"
   ]
  },
  {
   "cell_type": "code",
   "execution_count": 8,
   "metadata": {},
   "outputs": [
    {
     "data": {
      "text/plain": [
       "(8000, 784)"
      ]
     },
     "execution_count": 8,
     "metadata": {},
     "output_type": "execute_result"
    }
   ],
   "source": [
    "X.shape"
   ]
  },
  {
   "cell_type": "code",
   "execution_count": 16,
   "metadata": {},
   "outputs": [
    {
     "name": "stdout",
     "output_type": "stream",
     "text": [
      "_________________________________________________________________\n",
      "Layer (type)                 Output Shape              Param #   \n",
      "=================================================================\n",
      "dense_9 (Dense)              (None, 100)               78500     \n",
      "_________________________________________________________________\n",
      "dense_10 (Dense)             (None, 50)                5050      \n",
      "_________________________________________________________________\n",
      "dense_11 (Dense)             (None, 10)                510       \n",
      "=================================================================\n",
      "Total params: 84,060\n",
      "Trainable params: 84,060\n",
      "Non-trainable params: 0\n",
      "_________________________________________________________________\n"
     ]
    }
   ],
   "source": [
    "layer_1 = Dense(100, activation=\"tanh\", input_shape=[X.shape[1]])\n",
    "layer_3 = Dense(50, activation=\"tanh\")\n",
    "layer_4 = Dense(y_hot.shape[1], activation=\"softmax\")\n",
    "model = Sequential()\n",
    "model.add(layer_1)\n",
    "model.add(layer_3)\n",
    "model.add(layer_4)\n",
    "model.summary()"
   ]
  },
  {
   "cell_type": "code",
   "execution_count": 17,
   "metadata": {},
   "outputs": [],
   "source": [
    "model.compile(optimizer=\"adam\", loss=\"categorical_crossentropy\", metrics=[\"accuracy\"])"
   ]
  },
  {
   "cell_type": "code",
   "execution_count": 18,
   "metadata": {},
   "outputs": [
    {
     "name": "stdout",
     "output_type": "stream",
     "text": [
      "Epoch 1/40\n",
      "5360/5360 [==============================] - 0s 77us/step - loss: 1.4047 - acc: 0.5690\n",
      "Epoch 2/40\n",
      "5360/5360 [==============================] - 0s 27us/step - loss: 0.7789 - acc: 0.7823\n",
      "Epoch 3/40\n",
      "5360/5360 [==============================] - 0s 25us/step - loss: 0.6056 - acc: 0.8336\n",
      "Epoch 4/40\n",
      "5360/5360 [==============================] - 0s 36us/step - loss: 0.5166 - acc: 0.8537\n",
      "Epoch 5/40\n",
      "5360/5360 [==============================] - 0s 33us/step - loss: 0.4648 - acc: 0.8631\n",
      "Epoch 6/40\n",
      "5360/5360 [==============================] - 0s 30us/step - loss: 0.4360 - acc: 0.8703\n",
      "Epoch 7/40\n",
      "5360/5360 [==============================] - 0s 28us/step - loss: 0.4052 - acc: 0.8787\n",
      "Epoch 8/40\n",
      "5360/5360 [==============================] - 0s 31us/step - loss: 0.3755 - acc: 0.8920\n",
      "Epoch 9/40\n",
      "5360/5360 [==============================] - 0s 46us/step - loss: 0.3760 - acc: 0.8927\n",
      "Epoch 10/40\n",
      "5360/5360 [==============================] - 0s 41us/step - loss: 0.3688 - acc: 0.8877\n",
      "Epoch 11/40\n",
      "5360/5360 [==============================] - 0s 40us/step - loss: 0.3775 - acc: 0.8860\n",
      "Epoch 12/40\n",
      "5360/5360 [==============================] - 0s 50us/step - loss: 0.3804 - acc: 0.8823\n",
      "Epoch 13/40\n",
      "5360/5360 [==============================] - 0s 40us/step - loss: 0.3652 - acc: 0.8864\n",
      "Epoch 14/40\n",
      "5360/5360 [==============================] - 0s 43us/step - loss: 0.3582 - acc: 0.8886\n",
      "Epoch 15/40\n",
      "5360/5360 [==============================] - 0s 44us/step - loss: 0.3467 - acc: 0.8948\n",
      "Epoch 16/40\n",
      "5360/5360 [==============================] - 0s 43us/step - loss: 0.3267 - acc: 0.9009\n",
      "Epoch 17/40\n",
      "5360/5360 [==============================] - 0s 37us/step - loss: 0.3465 - acc: 0.8938\n",
      "Epoch 18/40\n",
      "5360/5360 [==============================] - 0s 31us/step - loss: 0.3460 - acc: 0.8978\n",
      "Epoch 19/40\n",
      "5360/5360 [==============================] - 0s 38us/step - loss: 0.3307 - acc: 0.9039\n",
      "Epoch 20/40\n",
      "5360/5360 [==============================] - 0s 38us/step - loss: 0.3160 - acc: 0.9035\n",
      "Epoch 21/40\n",
      "5360/5360 [==============================] - 0s 31us/step - loss: 0.3137 - acc: 0.9047\n",
      "Epoch 22/40\n",
      "5360/5360 [==============================] - 0s 36us/step - loss: 0.3458 - acc: 0.8944\n",
      "Epoch 23/40\n",
      "5360/5360 [==============================] - 0s 40us/step - loss: 0.3385 - acc: 0.8938\n",
      "Epoch 24/40\n",
      "5360/5360 [==============================] - 0s 37us/step - loss: 0.3265 - acc: 0.8970\n",
      "Epoch 25/40\n",
      "5360/5360 [==============================] - 0s 49us/step - loss: 0.3215 - acc: 0.9009\n",
      "Epoch 26/40\n",
      "5360/5360 [==============================] - 0s 46us/step - loss: 0.2975 - acc: 0.9067\n",
      "Epoch 27/40\n",
      "5360/5360 [==============================] - 0s 46us/step - loss: 0.3168 - acc: 0.8994\n",
      "Epoch 28/40\n",
      "5360/5360 [==============================] - 0s 40us/step - loss: 0.3259 - acc: 0.9022\n",
      "Epoch 29/40\n",
      "5360/5360 [==============================] - 0s 29us/step - loss: 0.2920 - acc: 0.9106\n",
      "Epoch 30/40\n",
      "5360/5360 [==============================] - 0s 43us/step - loss: 0.2957 - acc: 0.9119\n",
      "Epoch 31/40\n",
      "5360/5360 [==============================] - 0s 36us/step - loss: 0.3077 - acc: 0.9007\n",
      "Epoch 32/40\n",
      "5360/5360 [==============================] - 0s 43us/step - loss: 0.2991 - acc: 0.9058\n",
      "Epoch 33/40\n",
      "5360/5360 [==============================] - 0s 43us/step - loss: 0.2774 - acc: 0.9127\n",
      "Epoch 34/40\n",
      "5360/5360 [==============================] - 0s 42us/step - loss: 0.2677 - acc: 0.9153\n",
      "Epoch 35/40\n",
      "5360/5360 [==============================] - 0s 40us/step - loss: 0.2830 - acc: 0.9071\n",
      "Epoch 36/40\n",
      "5360/5360 [==============================] - 0s 39us/step - loss: 0.3006 - acc: 0.9086\n",
      "Epoch 37/40\n",
      "5360/5360 [==============================] - 0s 28us/step - loss: 0.2868 - acc: 0.9110\n",
      "Epoch 38/40\n",
      "5360/5360 [==============================] - 0s 28us/step - loss: 0.2622 - acc: 0.9172\n",
      "Epoch 39/40\n",
      "5360/5360 [==============================] - 0s 28us/step - loss: 0.2713 - acc: 0.9123\n",
      "Epoch 40/40\n",
      "5360/5360 [==============================] - 0s 32us/step - loss: 0.2698 - acc: 0.9198\n"
     ]
    },
    {
     "data": {
      "text/plain": [
       "<keras.callbacks.History at 0x12c348358>"
      ]
     },
     "execution_count": 18,
     "metadata": {},
     "output_type": "execute_result"
    }
   ],
   "source": [
    "model.fit(X_train, y_train, epochs=40, batch_size=100)"
   ]
  },
  {
   "cell_type": "code",
   "execution_count": 15,
   "metadata": {},
   "outputs": [
    {
     "name": "stdout",
     "output_type": "stream",
     "text": [
      "2640/2640 [==============================] - 0s 64us/step\n"
     ]
    },
    {
     "data": {
      "text/plain": [
       "[0.27953068352106847, 0.9106060606060606]"
      ]
     },
     "execution_count": 15,
     "metadata": {},
     "output_type": "execute_result"
    }
   ],
   "source": [
    "model.evaluate(X_test, y_test)"
   ]
  },
  {
   "cell_type": "code",
   "execution_count": 24,
   "metadata": {},
   "outputs": [
    {
     "data": {
      "text/plain": [
       "array([9])"
      ]
     },
     "execution_count": 24,
     "metadata": {},
     "output_type": "execute_result"
    }
   ],
   "source": [
    "np.argmax(model.predict(X_test[:1]), axis=1)"
   ]
  },
  {
   "cell_type": "code",
   "execution_count": 25,
   "metadata": {},
   "outputs": [
    {
     "data": {
      "text/plain": [
       "matrix([[0., 0., 0., 0., 0., 0., 0., 0., 0., 1.]])"
      ]
     },
     "execution_count": 25,
     "metadata": {},
     "output_type": "execute_result"
    }
   ],
   "source": [
    "y_test[0]"
   ]
  },
  {
   "cell_type": "code",
   "execution_count": 26,
   "metadata": {},
   "outputs": [
    {
     "data": {
      "text/plain": [
       "array([[5.1847459e-05, 1.4866289e-04, 5.9731694e-05, 8.4275166e-03,\n",
       "        1.1633551e-02, 6.3753032e-05, 2.7206208e-06, 1.1170775e-02,\n",
       "        6.9423988e-03, 9.6149904e-01]], dtype=float32)"
      ]
     },
     "execution_count": 26,
     "metadata": {},
     "output_type": "execute_result"
    }
   ],
   "source": [
    "model.predict(X_test[:1])"
   ]
  },
  {
   "cell_type": "code",
   "execution_count": 27,
   "metadata": {},
   "outputs": [
    {
     "name": "stdout",
     "output_type": "stream",
     "text": [
      "[logo 5e6d3f7] keras\n",
      " 4 files changed, 984 insertions(+)\n",
      " create mode 100644 lecture_14/.ipynb_checkpoints/MLP-checkpoint.ipynb\n",
      " create mode 100644 lecture_14/.ipynb_checkpoints/mnist-checkpoint.ipynb\n",
      " create mode 100644 lecture_14/MLP.ipynb\n",
      " create mode 100644 lecture_14/mnist.ipynb\n",
      "Everything up-to-date\n"
     ]
    }
   ],
   "source": []
  },
  {
   "cell_type": "code",
   "execution_count": null,
   "metadata": {},
   "outputs": [],
   "source": []
  }
 ],
 "metadata": {
  "kernelspec": {
   "display_name": "Python 3",
   "language": "python",
   "name": "python3"
  },
  "language_info": {
   "codemirror_mode": {
    "name": "ipython",
    "version": 3
   },
   "file_extension": ".py",
   "mimetype": "text/x-python",
   "name": "python",
   "nbconvert_exporter": "python",
   "pygments_lexer": "ipython3",
   "version": "3.7.2"
  }
 },
 "nbformat": 4,
 "nbformat_minor": 2
}
