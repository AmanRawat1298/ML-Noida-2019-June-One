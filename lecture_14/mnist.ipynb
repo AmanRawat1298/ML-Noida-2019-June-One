{
 "cells": [
  {
   "cell_type": "code",
   "execution_count": 1,
   "metadata": {},
   "outputs": [
    {
     "name": "stderr",
     "output_type": "stream",
     "text": [
      "Using TensorFlow backend.\n"
     ]
    }
   ],
   "source": [
    "from keras.models import Sequential\n",
    "from keras.layers import Dense\n",
    "from keras.losses import categorical_crossentropy\n",
    "from sklearn.datasets import make_blobs\n",
    "from sklearn.model_selection import train_test_split\n",
    "import matplotlib.pyplot as plt\n",
    "from sklearn.preprocessing import OneHotEncoder\n",
    "import pandas as pd\n",
    "import numpy as np"
   ]
  },
  {
   "cell_type": "code",
   "execution_count": 2,
   "metadata": {},
   "outputs": [],
   "source": [
    "data = pd.read_csv(\"../datasets/mnist_train_small.csv\").values"
   ]
  },
  {
   "cell_type": "code",
   "execution_count": 3,
   "metadata": {},
   "outputs": [],
   "source": [
    "X = data[:, 2:]\n",
    "y = data[:, 1]"
   ]
  },
  {
   "cell_type": "code",
   "execution_count": 4,
   "metadata": {},
   "outputs": [],
   "source": [
    "ohe = OneHotEncoder(categories=\"auto\")"
   ]
  },
  {
   "cell_type": "code",
   "execution_count": 5,
   "metadata": {},
   "outputs": [],
   "source": [
    "y_hot = ohe.fit_transform(y.reshape(-1, 1)).todense()"
   ]
  },
  {
   "cell_type": "code",
   "execution_count": 6,
   "metadata": {},
   "outputs": [],
   "source": [
    "X_train, X_test, y_train, y_test = train_test_split(\n",
    "...     X, y_hot, test_size=0.33, random_state=42)"
   ]
  },
  {
   "cell_type": "code",
   "execution_count": 7,
   "metadata": {},
   "outputs": [
    {
     "data": {
      "text/plain": [
       "(8000, 784)"
      ]
     },
     "execution_count": 7,
     "metadata": {},
     "output_type": "execute_result"
    }
   ],
   "source": [
    "X.shape"
   ]
  },
  {
   "cell_type": "code",
   "execution_count": 8,
   "metadata": {},
   "outputs": [
    {
     "name": "stdout",
     "output_type": "stream",
     "text": [
      "WARNING:tensorflow:From /usr/local/lib/python3.7/site-packages/tensorflow/python/framework/op_def_library.py:263: colocate_with (from tensorflow.python.framework.ops) is deprecated and will be removed in a future version.\n",
      "Instructions for updating:\n",
      "Colocations handled automatically by placer.\n",
      "_________________________________________________________________\n",
      "Layer (type)                 Output Shape              Param #   \n",
      "=================================================================\n",
      "dense_1 (Dense)              (None, 100)               78500     \n",
      "_________________________________________________________________\n",
      "dense_2 (Dense)              (None, 50)                5050      \n",
      "_________________________________________________________________\n",
      "dense_3 (Dense)              (None, 10)                510       \n",
      "=================================================================\n",
      "Total params: 84,060\n",
      "Trainable params: 84,060\n",
      "Non-trainable params: 0\n",
      "_________________________________________________________________\n"
     ]
    }
   ],
   "source": [
    "layer_1 = Dense(100, activation=\"tanh\", input_shape=[X.shape[1]])\n",
    "layer_3 = Dense(50, activation=\"tanh\")\n",
    "layer_4 = Dense(y_hot.shape[1], activation=\"softmax\")\n",
    "model = Sequential()\n",
    "model.add(layer_1)\n",
    "model.add(layer_3)\n",
    "model.add(layer_4)\n",
    "model.summary()"
   ]
  },
  {
   "cell_type": "code",
   "execution_count": 9,
   "metadata": {},
   "outputs": [],
   "source": [
    "model.compile(optimizer=\"adam\", loss=\"categorical_crossentropy\", metrics=[\"accuracy\"])"
   ]
  },
  {
   "cell_type": "code",
   "execution_count": 10,
   "metadata": {},
   "outputs": [
    {
     "name": "stdout",
     "output_type": "stream",
     "text": [
      "WARNING:tensorflow:From /usr/local/lib/python3.7/site-packages/tensorflow/python/ops/math_ops.py:3066: to_int32 (from tensorflow.python.ops.math_ops) is deprecated and will be removed in a future version.\n",
      "Instructions for updating:\n",
      "Use tf.cast instead.\n",
      "Epoch 1/40\n",
      "5360/5360 [==============================] - 1s 98us/step - loss: 1.4390 - acc: 0.5459\n",
      "Epoch 2/40\n",
      "5360/5360 [==============================] - 0s 40us/step - loss: 0.7410 - acc: 0.7935\n",
      "Epoch 3/40\n",
      "5360/5360 [==============================] - 0s 26us/step - loss: 0.5592 - acc: 0.8451\n",
      "Epoch 4/40\n",
      "5360/5360 [==============================] - 0s 26us/step - loss: 0.4974 - acc: 0.8567\n",
      "Epoch 5/40\n",
      "5360/5360 [==============================] - 0s 27us/step - loss: 0.4327 - acc: 0.8761\n",
      "Epoch 6/40\n",
      "5360/5360 [==============================] - 0s 25us/step - loss: 0.4179 - acc: 0.8797\n",
      "Epoch 7/40\n",
      "5360/5360 [==============================] - 0s 24us/step - loss: 0.3853 - acc: 0.8897\n",
      "Epoch 8/40\n",
      "5360/5360 [==============================] - 0s 38us/step - loss: 0.3836 - acc: 0.8819\n",
      "Epoch 9/40\n",
      "5360/5360 [==============================] - 0s 34us/step - loss: 0.3681 - acc: 0.8905\n",
      "Epoch 10/40\n",
      "5360/5360 [==============================] - 0s 34us/step - loss: 0.3598 - acc: 0.8965\n",
      "Epoch 11/40\n",
      "5360/5360 [==============================] - 0s 50us/step - loss: 0.3478 - acc: 0.8951\n",
      "Epoch 12/40\n",
      "5360/5360 [==============================] - 0s 29us/step - loss: 0.3509 - acc: 0.8909\n",
      "Epoch 13/40\n",
      "5360/5360 [==============================] - 0s 38us/step - loss: 0.3336 - acc: 0.8998\n",
      "Epoch 14/40\n",
      "5360/5360 [==============================] - 0s 39us/step - loss: 0.3420 - acc: 0.8979\n",
      "Epoch 15/40\n",
      "5360/5360 [==============================] - 0s 33us/step - loss: 0.3467 - acc: 0.8963\n",
      "Epoch 16/40\n",
      "5360/5360 [==============================] - 0s 25us/step - loss: 0.3472 - acc: 0.8933\n",
      "Epoch 17/40\n",
      "5360/5360 [==============================] - 0s 32us/step - loss: 0.3199 - acc: 0.9011\n",
      "Epoch 18/40\n",
      "5360/5360 [==============================] - 0s 39us/step - loss: 0.3274 - acc: 0.9007\n",
      "Epoch 19/40\n",
      "5360/5360 [==============================] - 0s 46us/step - loss: 0.3230 - acc: 0.8983\n",
      "Epoch 20/40\n",
      "5360/5360 [==============================] - 0s 38us/step - loss: 0.3169 - acc: 0.9032\n",
      "Epoch 21/40\n",
      "5360/5360 [==============================] - 0s 37us/step - loss: 0.2968 - acc: 0.9080\n",
      "Epoch 22/40\n",
      "5360/5360 [==============================] - 0s 44us/step - loss: 0.2894 - acc: 0.9099\n",
      "Epoch 23/40\n",
      "5360/5360 [==============================] - 0s 44us/step - loss: 0.2854 - acc: 0.9146\n",
      "Epoch 24/40\n",
      "5360/5360 [==============================] - 0s 35us/step - loss: 0.3088 - acc: 0.9015\n",
      "Epoch 25/40\n",
      "5360/5360 [==============================] - 0s 29us/step - loss: 0.3164 - acc: 0.8976\n",
      "Epoch 26/40\n",
      "5360/5360 [==============================] - 0s 26us/step - loss: 0.3139 - acc: 0.8991\n",
      "Epoch 27/40\n",
      "5360/5360 [==============================] - 0s 26us/step - loss: 0.3005 - acc: 0.9054\n",
      "Epoch 28/40\n",
      "5360/5360 [==============================] - 0s 25us/step - loss: 0.2947 - acc: 0.9024\n",
      "Epoch 29/40\n",
      "5360/5360 [==============================] - 0s 25us/step - loss: 0.2825 - acc: 0.9140\n",
      "Epoch 30/40\n",
      "5360/5360 [==============================] - 0s 25us/step - loss: 0.2880 - acc: 0.9104\n",
      "Epoch 31/40\n",
      "5360/5360 [==============================] - 0s 25us/step - loss: 0.2849 - acc: 0.9112\n",
      "Epoch 32/40\n",
      "5360/5360 [==============================] - 0s 25us/step - loss: 0.2737 - acc: 0.9129\n",
      "Epoch 33/40\n",
      "5360/5360 [==============================] - 0s 25us/step - loss: 0.2958 - acc: 0.9084\n",
      "Epoch 34/40\n",
      "5360/5360 [==============================] - 0s 28us/step - loss: 0.3224 - acc: 0.8991\n",
      "Epoch 35/40\n",
      "5360/5360 [==============================] - 0s 23us/step - loss: 0.3019 - acc: 0.9063\n",
      "Epoch 36/40\n",
      "5360/5360 [==============================] - 0s 24us/step - loss: 0.2996 - acc: 0.9050\n",
      "Epoch 37/40\n",
      "5360/5360 [==============================] - 0s 24us/step - loss: 0.2843 - acc: 0.9132\n",
      "Epoch 38/40\n",
      "5360/5360 [==============================] - ETA: 0s - loss: 0.2696 - acc: 0.916 - 0s 23us/step - loss: 0.2680 - acc: 0.9164\n",
      "Epoch 39/40\n",
      "5360/5360 [==============================] - 0s 27us/step - loss: 0.2933 - acc: 0.9075\n",
      "Epoch 40/40\n",
      "5360/5360 [==============================] - 0s 27us/step - loss: 0.2688 - acc: 0.9153\n"
     ]
    },
    {
     "data": {
      "text/plain": [
       "<keras.callbacks.History at 0x1275a3518>"
      ]
     },
     "execution_count": 10,
     "metadata": {},
     "output_type": "execute_result"
    }
   ],
   "source": [
    "model.fit(X_train, y_train, epochs=40, batch_size=100)"
   ]
  },
  {
   "cell_type": "code",
   "execution_count": 11,
   "metadata": {},
   "outputs": [
    {
     "name": "stdout",
     "output_type": "stream",
     "text": [
      "2640/2640 [==============================] - 0s 38us/step\n"
     ]
    },
    {
     "data": {
      "text/plain": [
       "[0.3373398076404225, 0.9022727272727272]"
      ]
     },
     "execution_count": 11,
     "metadata": {},
     "output_type": "execute_result"
    }
   ],
   "source": [
    "model.evaluate(X_test, y_test)"
   ]
  },
  {
   "cell_type": "code",
   "execution_count": 12,
   "metadata": {},
   "outputs": [
    {
     "data": {
      "text/plain": [
       "array([9])"
      ]
     },
     "execution_count": 12,
     "metadata": {},
     "output_type": "execute_result"
    }
   ],
   "source": [
    "np.argmax(model.predict(X_test[:1]), axis=1)"
   ]
  },
  {
   "cell_type": "code",
   "execution_count": 13,
   "metadata": {},
   "outputs": [
    {
     "data": {
      "text/plain": [
       "matrix([[0., 0., 0., 0., 0., 0., 0., 0., 0., 1.]])"
      ]
     },
     "execution_count": 13,
     "metadata": {},
     "output_type": "execute_result"
    }
   ],
   "source": [
    "y_test[0]"
   ]
  },
  {
   "cell_type": "code",
   "execution_count": 14,
   "metadata": {},
   "outputs": [
    {
     "data": {
      "text/plain": [
       "array([[4.9871005e-07, 8.1975304e-06, 2.7956551e-06, 1.0053227e-03,\n",
       "        9.6514006e-04, 1.4741041e-05, 2.2108154e-06, 6.3192629e-04,\n",
       "        1.7003159e-04, 9.9719918e-01]], dtype=float32)"
      ]
     },
     "execution_count": 14,
     "metadata": {},
     "output_type": "execute_result"
    }
   ],
   "source": [
    "model.predict(X_test[:1])"
   ]
  },
  {
   "cell_type": "code",
   "execution_count": null,
   "metadata": {},
   "outputs": [],
   "source": []
  },
  {
   "cell_type": "code",
   "execution_count": 16,
   "metadata": {},
   "outputs": [],
   "source": [
    "import cv2"
   ]
  },
  {
   "cell_type": "code",
   "execution_count": 146,
   "metadata": {},
   "outputs": [],
   "source": [
    "one = cv2.imread(\"../datasets/nums/eight.jpeg\")"
   ]
  },
  {
   "cell_type": "code",
   "execution_count": 147,
   "metadata": {},
   "outputs": [],
   "source": [
    "gray = cv2.cvtColor(one, cv2.COLOR_BGR2GRAY)"
   ]
  },
  {
   "cell_type": "code",
   "execution_count": 148,
   "metadata": {},
   "outputs": [],
   "source": [
    "small = cv2.resize(gray, (28, 28))"
   ]
  },
  {
   "cell_type": "code",
   "execution_count": 149,
   "metadata": {},
   "outputs": [],
   "source": [
    "small = (small < 100).astype(int) * 255"
   ]
  },
  {
   "cell_type": "code",
   "execution_count": 150,
   "metadata": {},
   "outputs": [
    {
     "data": {
      "text/plain": [
       "3"
      ]
     },
     "execution_count": 150,
     "metadata": {},
     "output_type": "execute_result"
    }
   ],
   "source": [
    "np.argmax(model.predict(np.array([small.flatten()])))"
   ]
  },
  {
   "cell_type": "code",
   "execution_count": 151,
   "metadata": {},
   "outputs": [
    {
     "data": {
      "text/plain": [
       "<matplotlib.image.AxesImage at 0x13b715400>"
      ]
     },
     "execution_count": 151,
     "metadata": {},
     "output_type": "execute_result"
    },
    {
     "data": {
      "image/png": "[encoded data removed]",
      "text/plain": [
       "<Figure size 432x288 with 1 Axes>"
      ]
     },
     "metadata": {
      "needs_background": "light"
     },
     "output_type": "display_data"
    }
   ],
   "source": [
    "plt.imshow(small)"
   ]
  },
  {
   "cell_type": "code",
   "execution_count": null,
   "metadata": {},
   "outputs": [],
   "source": []
  },
  {
   "cell_type": "code",
   "execution_count": null,
   "metadata": {},
   "outputs": [],
   "source": []
  }
 ],
 "metadata": {
  "kernelspec": {
   "display_name": "Python 3",
   "language": "python",
   "name": "python3"
  },
  "language_info": {
   "codemirror_mode": {
    "name": "ipython",
    "version": 3
   },
   "file_extension": ".py",
   "mimetype": "text/x-python",
   "name": "python",
   "nbconvert_exporter": "python",
   "pygments_lexer": "ipython3",
   "version": "3.7.2"
  }
 },
 "nbformat": 4,
 "nbformat_minor": 2
}
