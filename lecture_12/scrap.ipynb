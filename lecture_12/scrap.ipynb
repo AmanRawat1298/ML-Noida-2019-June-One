{
 "cells": [
  {
   "cell_type": "code",
   "execution_count": 6,
   "metadata": {},
   "outputs": [],
   "source": [
    "from bs4 import BeautifulSoup\n",
    "import requests"
   ]
  },
  {
   "cell_type": "code",
   "execution_count": null,
   "metadata": {},
   "outputs": [],
   "source": []
  },
  {
   "cell_type": "code",
   "execution_count": null,
   "metadata": {},
   "outputs": [],
   "source": []
  },
  {
   "cell_type": "code",
   "execution_count": null,
   "metadata": {},
   "outputs": [],
   "source": []
  },
  {
   "cell_type": "code",
   "execution_count": 19,
   "metadata": {},
   "outputs": [
    {
     "ename": "NameError",
     "evalue": "name 'text' is not defined",
     "output_type": "error",
     "traceback": [
      "\u001b[0;31m---------------------------------------------------------------------------\u001b[0m",
      "\u001b[0;31mNameError\u001b[0m                                 Traceback (most recent call last)",
      "\u001b[0;32m<ipython-input-19-aa785adca3fc>\u001b[0m in \u001b[0;36m<module>\u001b[0;34m\u001b[0m\n\u001b[0;32m----> 1\u001b[0;31m \u001b[0mtext\u001b[0m\u001b[0;34m\u001b[0m\u001b[0;34m\u001b[0m\u001b[0m\n\u001b[0m",
      "\u001b[0;31mNameError\u001b[0m: name 'text' is not defined"
     ]
    }
   ],
   "source": [
    "text"
   ]
  },
  {
   "cell_type": "code",
   "execution_count": 27,
   "metadata": {},
   "outputs": [],
   "source": [
    "def process(content):\n",
    "    soup = BeautifulSoup(content)\n",
    "    quotes_divs = soup.find_all(\"div\", attrs={\"class\" : \"quote\"})\n",
    "    quotes = []\n",
    "    for div in quotes_divs:\n",
    "        q_text = div.find(\"div\", attrs={\"class\" : \"quoteText\"})\n",
    "        quote = q_text.text.strip().split(\"\\n\")[0]\n",
    "        author = q_text.find(\"span\", attrs={\"class\" : \"authorOrTitle\"}).text.strip()\n",
    "        \n",
    "        q_dict = {\"quote\" : quote, \"author\":author}\n",
    "        quotes.append(q_dict)\n",
    "    \n",
    "    return quotes"
   ]
  },
  {
   "cell_type": "code",
   "execution_count": 17,
   "metadata": {},
   "outputs": [],
   "source": [
    "base_url = \"https://www.goodreads.com/quotes/tag/{0}?page={1}\"\n",
    "\n",
    "emotions = [\"love\"]\n",
    "\n",
    "quotes = []\n",
    "\n",
    "for emotion in emotions:\n",
    "    for index in range(1, 2):\n",
    "        final_url = base_url.format(emotion, index)\n",
    "        page = requests.get(final_url)\n",
    "        content = page.text\n",
    "#         quotes += process(content)"
   ]
  },
  {
   "cell_type": "code",
   "execution_count": 18,
   "metadata": {},
   "outputs": [],
   "source": [
    "temp_url = \"https://www.goodreads.com/quotes/tag/love?page=1\"\n",
    "page = requests.get(final_url)\n",
    "content = page.text"
   ]
  },
  {
   "cell_type": "code",
   "execution_count": 28,
   "metadata": {},
   "outputs": [
    {
     "data": {
      "text/plain": [
       "{'quote': \"“I'm selfish, impatient and a little insecure. I make mistakes, I am out of control and at times hard to handle. But if you can't handle me at my worst, then you sure as hell don't deserve me at my best.”\",\n",
       " 'author': 'Marilyn Monroe'}"
      ]
     },
     "execution_count": 28,
     "metadata": {},
     "output_type": "execute_result"
    }
   ],
   "source": [
    "process(content)[0]"
   ]
  },
  {
   "cell_type": "code",
   "execution_count": null,
   "metadata": {},
   "outputs": [],
   "source": []
  }
 ],
 "metadata": {
  "kernelspec": {
   "display_name": "Python 3",
   "language": "python",
   "name": "python3"
  },
  "language_info": {
   "codemirror_mode": {
    "name": "ipython",
    "version": 3
   },
   "file_extension": ".py",
   "mimetype": "text/x-python",
   "name": "python",
   "nbconvert_exporter": "python",
   "pygments_lexer": "ipython3",
   "version": "3.7.2"
  }
 },
 "nbformat": 4,
 "nbformat_minor": 2
}
